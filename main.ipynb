{
 "cells": [
  {
   "cell_type": "code",
   "execution_count": null,
   "metadata": {},
   "outputs": [],
   "source": [
    "import cv2\n",
    "import numpy as np\n",
    "from ultralytics import YOLO\n",
    "from deep_sort_realtime.deepsort_tracker import DeepSort"
   ]
  },
  {
   "cell_type": "code",
   "execution_count": null,
   "metadata": {},
   "outputs": [],
   "source": [
    "# Load YOLOv8 model\n",
    "model = YOLO(\"yolov8n.pt\")  # Use the appropriate YOLOv8 model file"
   ]
  },
  {
   "cell_type": "code",
   "execution_count": null,
   "metadata": {},
   "outputs": [],
   "source": [
    "# Initialize video capture\n",
    "cap = cv2.VideoCapture(\"video.mp4\")"
   ]
  },
  {
   "cell_type": "code",
   "execution_count": null,
   "metadata": {},
   "outputs": [],
   "source": [
    "# Define ROI or line for counting\n",
    "line_position = 300\n",
    "car_count = 0\n",
    "tracked_cars = set()"
   ]
  },
  {
   "cell_type": "code",
   "execution_count": null,
   "metadata": {},
   "outputs": [],
   "source": [
    "import cv2\n",
    "import numpy as np\n",
    "\n",
    "def get_car_color(roi):\n",
    "    # Convert ROI to HSV color space\n",
    "    hsv = cv2.cvtColor(roi, cv2.COLOR_BGR2HSV)\n",
    "    \n",
    "    # Define HSV color ranges\n",
    "    color_ranges = {\n",
    "        \"Red\": [(0, 50, 50), (10, 255, 255), (170, 50, 50), (180, 255, 255)],\n",
    "        \"Orange\": [(10, 50, 50), (25, 255, 255)],\n",
    "        \"Yellow\": [(25, 50, 50), (35, 255, 255)],\n",
    "        \"Green\": [(35, 50, 50), (85, 255, 255)],\n",
    "        \"Blue\": [(85, 50, 50), (125, 255, 255)],\n",
    "        \"Purple\": [(125, 50, 50), (145, 255, 255)],\n",
    "        \"Pink\": [(145, 50, 50), (170, 255, 255)],\n",
    "        \"White\": [(0, 0, 200), (180, 30, 255)]\n",
    "    }\n",
    "    \n",
    "    max_pixels = 0\n",
    "    dominant_color = \"Unknown\"\n",
    "    \n",
    "    for color, ranges in color_ranges.items():\n",
    "        mask = None\n",
    "        for i in range(0, len(ranges), 2):\n",
    "            lower_bound = np.array(ranges[i])\n",
    "            upper_bound = np.array(ranges[i+1])\n",
    "            if mask is None:\n",
    "                mask = cv2.inRange(hsv, lower_bound, upper_bound)\n",
    "            else:\n",
    "                mask += cv2.inRange(hsv, lower_bound, upper_bound)\n",
    "        \n",
    "        num_pixels = cv2.countNonZero(mask)\n",
    "        if num_pixels > max_pixels:\n",
    "            max_pixels = num_pixels\n",
    "            dominant_color = color\n",
    "    \n",
    "    return dominant_color\n",
    "\n",
    "while cap.isOpened():\n",
    "    ret, frame = cap.read()\n",
    "    if not ret:\n",
    "        break\n",
    "\n",
    "    height, width, channels = frame.shape\n",
    "\n",
    "    # Detect cars using YOLOv8\n",
    "    results = model(frame)\n",
    "\n",
    "    for result in results:\n",
    "        boxes = result.boxes.xyxy.cpu().numpy()  # Get bounding boxes\n",
    "        confidences = result.boxes.conf.cpu().numpy()  # Get confidences\n",
    "        class_ids = result.boxes.cls.cpu().numpy()  # Get class IDs\n",
    "\n",
    "        for i in range(len(boxes)):\n",
    "            if confidences[i] > 0.5 and class_ids[i] == 2:  # Class ID 2 is for 'car' in COCO dataset\n",
    "                x, y, x2, y2 = boxes[i]\n",
    "                x, y, w, h = int(x), int(y), int(x2 - x), int(y2 - y)\n",
    "                roi = frame[y:y+h, x:x+w]\n",
    "                car_color = get_car_color(roi)\n",
    "                label = f\"Car {car_color}\"\n",
    "                cv2.rectangle(frame, (x, y), (x + w, y + h), (0, 255, 0), 2)\n",
    "                cv2.putText(frame, label, (x, y - 10), cv2.FONT_HERSHEY_SIMPLEX, 0.5, (0, 255, 0), 2)\n",
    "\n",
    "                    # Generate a unique ID for the car based on its position\n",
    "                car_id = (x, y, w, h)\n",
    "\n",
    "                # Check if the car crosses the line\n",
    "                if y + h > line_position and y < line_position and car_id not in tracked_cars:\n",
    "                    car_count += 1\n",
    "                tracked_cars.add(car_id)\n",
    "\n",
    "    # Draw counting line\n",
    "    cv2.line(frame, (0, line_position), (width, line_position), (0, 0, 255), 2)\n",
    "    cv2.putText(frame, f\"Count: {car_count}\", (10, 50), cv2.FONT_HERSHEY_SIMPLEX, 1, (0, 0, 255), 2)\n",
    "\n",
    "    cv2.imshow(\"Frame\", frame)\n",
    "\n",
    "    if cv2.waitKey(1) & 0xFF == ord('q'):\n",
    "        break\n",
    "\n",
    "cap.release()\n",
    "cv2.destroyAllWindows()"
   ]
  }
 ],
 "metadata": {
  "kernelspec": {
   "display_name": "tf_gpu",
   "language": "python",
   "name": "python3"
  },
  "language_info": {
   "codemirror_mode": {
    "name": "ipython",
    "version": 3
   },
   "file_extension": ".py",
   "mimetype": "text/x-python",
   "name": "python",
   "nbconvert_exporter": "python",
   "pygments_lexer": "ipython3",
   "version": "3.12.4"
  }
 },
 "nbformat": 4,
 "nbformat_minor": 2
}
